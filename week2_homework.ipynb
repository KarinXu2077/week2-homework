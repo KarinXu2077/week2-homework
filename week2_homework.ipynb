{
  "nbformat": 4,
  "nbformat_minor": 0,
  "metadata": {
    "colab": {
      "provenance": []
    },
    "kernelspec": {
      "name": "python3",
      "display_name": "Python 3"
    },
    "language_info": {
      "name": "python"
    }
  },
  "cells": [
    {
      "cell_type": "code",
      "execution_count": 2,
      "metadata": {
        "colab": {
          "base_uri": "https://localhost:8080/"
        },
        "id": "DVIRKtRJ9r_f",
        "outputId": "d438d924-9968-45be-c441-06963336e4d5"
      },
      "outputs": [
        {
          "output_type": "stream",
          "name": "stdout",
          "text": [
            "   Manufacturer    Model     Type\n",
            "0         Acura  Integra    Small\n",
            "20     Chrysler  LeBaron  Compact\n",
            "40        Honda  Prelude   Sporty\n",
            "60      Mercury   Cougar  Midsize\n",
            "80       Subaru   Loyale    Small\n"
          ]
        }
      ],
      "source": [
        "import pandas as pd\n",
        "\n",
        "# Load the dataset\n",
        "df = pd.read_csv('https://raw.githubusercontent.com/selva86/datasets/master/Cars93_miss.csv')\n",
        "\n",
        "# Filter every 20th row for 'Manufacturer', 'Model', and 'Type'\n",
        "df_filtered = df.iloc[::20][['Manufacturer', 'Model', 'Type']]\n",
        "print(df_filtered)"
      ]
    },
    {
      "cell_type": "code",
      "source": [
        "# Load the dataset\n",
        "df = pd.read_csv('https://raw.githubusercontent.com/selva86/datasets/master/Cars93_miss.csv')\n",
        "\n",
        "# Calculate the mean for 'Min.Price' and 'Max.Price' excluding NaN values\n",
        "min_price_mean = df['Min.Price'].mean(skipna=True)\n",
        "max_price_mean = df['Max.Price'].mean(skipna=True)\n",
        "\n",
        "# Replace NaN values with the calculated mean\n",
        "df['Min.Price'].fillna(min_price_mean, inplace=True)\n",
        "df['Max.Price'].fillna(max_price_mean, inplace=True)\n",
        "print(df[['Min.Price', 'Max.Price']])"
      ],
      "metadata": {
        "colab": {
          "base_uri": "https://localhost:8080/"
        },
        "id": "3qLlPeTY-kuN",
        "outputId": "7840df64-8b6e-4e69-b3d6-af05c0ba6caa"
      },
      "execution_count": 3,
      "outputs": [
        {
          "output_type": "stream",
          "name": "stdout",
          "text": [
            "    Min.Price  Max.Price\n",
            "0   12.900000  18.800000\n",
            "1   29.200000  38.700000\n",
            "2   25.900000  32.300000\n",
            "3   17.118605  44.600000\n",
            "4   17.118605  21.459091\n",
            "..        ...        ...\n",
            "88  16.600000  22.700000\n",
            "89  17.600000  22.400000\n",
            "90  22.900000  23.700000\n",
            "91  21.800000  23.500000\n",
            "92  24.800000  28.500000\n",
            "\n",
            "[93 rows x 2 columns]\n"
          ]
        }
      ]
    },
    {
      "cell_type": "code",
      "source": [
        "import numpy as np\n",
        "# Get a dataframe\n",
        "df = pd.DataFrame(np.random.randint(10, 40, 60).reshape(-1, 4))\n",
        "# Get rows where the sum is greater than 100\n",
        "rows_with_sum_over_100 = df[df.sum(axis=1) > 100]\n",
        "print(rows_with_sum_over_100)"
      ],
      "metadata": {
        "colab": {
          "base_uri": "https://localhost:8080/"
        },
        "id": "ee1FU2lH_F8H",
        "outputId": "ea102e9d-33f1-4f96-83cd-c460cdb34bed"
      },
      "execution_count": 17,
      "outputs": [
        {
          "output_type": "stream",
          "name": "stdout",
          "text": [
            "     0   1   2   3\n",
            "0   32  38  16  19\n",
            "2   24  38  12  32\n",
            "5   23  27  29  27\n",
            "7   30  28  39  14\n",
            "11  30  28  30  13\n",
            "14  29  32  35  14\n"
          ]
        }
      ]
    },
    {
      "cell_type": "code",
      "source": [
        "import numpy as np\n",
        "\n",
        "# Create a 4x4 array with random integers from 1 to 100\n",
        "array = np.random.randint(1, 100, size=(4, 4))\n",
        "\n",
        "# Define a lambda function to calculate sums of rows and columns\n",
        "sum_rows = lambda arr: np.sum(arr, axis=1)\n",
        "sum_cols = lambda arr: np.sum(arr, axis=0)\n",
        "\n",
        "# Use the lambda functions and store the results\n",
        "row_sums = sum_rows(array)\n",
        "col_sums = sum_cols(array)\n",
        "\n",
        "print(\"Row sums:\", row_sums)\n",
        "print(\"Column sums:\", col_sums)"
      ],
      "metadata": {
        "colab": {
          "base_uri": "https://localhost:8080/"
        },
        "id": "niNESvqj_L2u",
        "outputId": "5ff4fee9-4b6d-41fe-8671-48613992a905"
      },
      "execution_count": 20,
      "outputs": [
        {
          "output_type": "stream",
          "name": "stdout",
          "text": [
            "Row sums: [211 233 213 227]\n",
            "Column sums: [182 243 146 313]\n"
          ]
        }
      ]
    }
  ]
}